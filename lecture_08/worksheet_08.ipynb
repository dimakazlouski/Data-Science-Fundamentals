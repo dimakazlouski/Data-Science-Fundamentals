{
 "cells": [
  {
   "attachments": {},
   "cell_type": "markdown",
   "metadata": {},
   "source": [
    "# Worksheet 08\n",
    "\n",
    "Name:  Dima Kazlouski\n",
    "UID: U49144585\n",
    "\n",
    "### Topics\n",
    "\n",
    "- Soft Clustering\n",
    "- Clustering Aggregation\n",
    "\n",
    "### Probability Review\n",
    "\n",
    "Read through [the following](https://medium.com/@gallettilance/overview-of-probability-3272b72c82c8)\n",
    "\n",
    "### Soft Clustering\n",
    "\n",
    "We generate 10 data points that come from a normal distribution with mean 5 and variance 1."
   ]
  },
  {
   "cell_type": "code",
   "execution_count": 1,
   "metadata": {},
   "outputs": [
    {
     "name": "stdout",
     "output_type": "stream",
     "text": [
      "[6.699352831676877, 4.799666698952097, 4.401761897722514, 4.507250753289579, 3.12781498039314, 3.776428853518498, 3.694520271239159, 4.961042569289604, 2.1896480385305463, 5.2727316172409955]\n"
     ]
    }
   ],
   "source": [
    "import random\n",
    "import numpy as np\n",
    "from sklearn.cluster import KMeans\n",
    "\n",
    "mean = 5\n",
    "stdev = 1\n",
    "\n",
    "c1 = np.random.normal(mean, stdev, 10).tolist()\n",
    "print(c1)"
   ]
  },
  {
   "cell_type": "markdown",
   "metadata": {},
   "source": [
    "a) Generate 10 more data points, this time coming from a normal distribution with mean 8 and variance 1."
   ]
  },
  {
   "cell_type": "code",
   "execution_count": 2,
   "metadata": {},
   "outputs": [
    {
     "name": "stdout",
     "output_type": "stream",
     "text": [
      "[6.267357821473129, 7.809707070081489, 9.050995924518555, 9.199430850476809, 8.08751383593244, 9.058814319669226, 8.870876172839125, 7.670286315496307, 8.750709320357622, 6.482236136212417]\n"
     ]
    }
   ],
   "source": [
    "c2 = np.random.normal(8, 1, 10).tolist()\n",
    "print(c2)"
   ]
  },
  {
   "cell_type": "markdown",
   "metadata": {},
   "source": [
    "b) Flip a fair coin 10 times. If the coin lands on H, then pick the last data point of `c1` and remove it from `c1`, if T then pick the last data point from `c2` and remove it from `c2`. Add these 10 points to a list called `data`."
   ]
  },
  {
   "cell_type": "code",
   "execution_count": 4,
   "metadata": {},
   "outputs": [
    {
     "name": "stdout",
     "output_type": "stream",
     "text": [
      "[5.2727316172409955, 6.482236136212417, 2.1896480385305463, 4.961042569289604, 8.750709320357622, 3.694520271239159, 3.776428853518498, 3.12781498039314, 7.670286315496307, 4.507250753289579]\n"
     ]
    }
   ],
   "source": [
    "data = []\n",
    "for i in range(10):\n",
    "    # flip coin\n",
    "    coin_output = random.choice([0, 1])\n",
    "    if coin_output == 0:\n",
    "        p1 = c1.pop()\n",
    "        data.append(p1)\n",
    "    else:\n",
    "        p2 = c2.pop()\n",
    "        data.append(p2)\n",
    "print(data)"
   ]
  },
  {
   "cell_type": "markdown",
   "metadata": {},
   "source": [
    "c) This `data` is a Gaussian Mixture Distribution with 2 mixture components. Over the next few questions we will walk through the GMM algorithm to see if we can uncover the parameters we used to generate this data. First, please list all these parameters of the GMM that created `data` and the values we know they have."
   ]
  },
  {
   "cell_type": "markdown",
   "metadata": {},
   "source": [
    "c1 has a mean of 5 and stdev 1. c2 has a mean of 8 and a stdev of 1"
   ]
  },
  {
   "cell_type": "markdown",
   "metadata": {},
   "source": [
    "d) Let's assume there are two mixture components (note: we could plot the data and make the observation that there are two clusters). The EM algorithm asks us to start with a random `mean_j`, `variance_j`, `P(C_j)` for each component j. One method we could use to find sensible values for these is to apply K means with k=2 here.\n",
    "\n",
    "1. the centroids would be the estimates of the `mean_j`\n",
    "2. the intra-cluster variance could be the estimate of `variance_j`\n",
    "3. the proportion of points in each cluster could be the estimate of `P(C_j)`\n",
    "\n",
    "Go through this process and list the parameter estimates it gives. Are they close or far from the true values?"
   ]
  },
  {
   "cell_type": "code",
   "execution_count": 5,
   "metadata": {},
   "outputs": [
    {
     "name": "stdout",
     "output_type": "stream",
     "text": [
      "P(C_1) = 0.7,  P(C_2) = 0.3\n",
      "mean_1 = 3.9327767262145032,  mean_2 = 7.634410590688783\n",
      "var_1 = 0.9929288559287395,  var_2 = 0.8583052983462136\n"
     ]
    },
    {
     "name": "stderr",
     "output_type": "stream",
     "text": [
      "c:\\Python311\\Lib\\site-packages\\sklearn\\cluster\\_kmeans.py:1416: FutureWarning: The default value of `n_init` will change from 10 to 'auto' in 1.4. Set the value of `n_init` explicitly to suppress the warning\n",
      "  super()._check_params_vs_input(X, default_n_init=10)\n"
     ]
    }
   ],
   "source": [
    "kmeans = KMeans(2, init='k-means++').fit(X=np.array(data).reshape(-1, 1))\n",
    "\n",
    "c1 = [x[0] for x in filter(lambda x: x[1] == 0, zip(data, kmeans.labels_))]\n",
    "c2 = [x[0] for x in filter(lambda x: x[1] == 1, zip(data, kmeans.labels_))]\n",
    "\n",
    "prob_c = [ len(c1) / (len(c1) + len(c2)) , len(c2) / (len(c1) + len(c2)) ]\n",
    "mean = [ sum(c1)/len(c1) , sum(c2)/len(c2) ]\n",
    "var = [ sum(map(lambda x : (x - mean[0])**2, c1)) / len(c1) , \n",
    "        sum(map(lambda x : (x - mean[1])**2, c2)) / len(c2) ]\n",
    "\n",
    "print(\"P(C_1) = \" + str(prob_c[0]) + \",  P(C_2) = \" + str(prob_c[1]))\n",
    "print(\"mean_1 = \" + str(mean[0]) + \",  mean_2 = \" + str(mean[1]))\n",
    "print(\"var_1 = \" + str(var[0]) + \",  var_2 = \" + str(var[1]))\n"
   ]
  },
  {
   "cell_type": "markdown",
   "metadata": {},
   "source": [
    "The means estimated are very close while the variance is a bit off"
   ]
  },
  {
   "cell_type": "markdown",
   "metadata": {},
   "source": [
    "e) For each data point, compute `P(C_j | X_i)`. Comment on which cluster you think each point belongs to based on the estimated probabilities. How does that compare to the truth?"
   ]
  },
  {
   "cell_type": "code",
   "execution_count": 17,
   "metadata": {},
   "outputs": [
    {
     "name": "stdout",
     "output_type": "stream",
     "text": [
      "point =  5.2727316172409955\n",
      "probability of observing that point if it came from cluster 0 =  0.16163511489470617\n",
      "probability of observing that point if it came from cluster 1 =  0.010549405567834695\n",
      "point =  6.482236136212417\n",
      "probability of observing that point if it came from cluster 0 =  0.01487361172524841\n",
      "probability of observing that point if it came from cluster 1 =  0.18878637467032333\n",
      "point =  2.1896480385305463\n",
      "probability of observing that point if it came from cluster 0 =  0.08605171764860012\n",
      "probability of observing that point if it came from cluster 1 =  8.490528383412294e-10\n",
      "point =  4.961042569289604\n",
      "probability of observing that point if it came from cluster 0 =  0.23502481250434681\n",
      "probability of observing that point if it came from cluster 1 =  0.003636122099919707\n",
      "point =  8.750709320357622\n",
      "probability of observing that point if it came from cluster 0 =  3.1004112438456495e-06\n",
      "probability of observing that point if it came from cluster 1 =  0.19950751327019392\n",
      "point =  3.694520271239159\n",
      "probability of observing that point if it came from cluster 0 =  0.39038141176915314\n",
      "probability of observing that point if it came from cluster 1 =  1.2352751707311372e-05\n",
      "point =  3.776428853518498\n",
      "probability of observing that point if it came from cluster 0 =  0.39683317477559304\n",
      "probability of observing that point if it came from cluster 1 =  1.90559935329373e-05\n",
      "point =  3.12781498039314\n",
      "probability of observing that point if it came from cluster 0 =  0.2892526129389814\n",
      "probability of observing that point if it came from cluster 1 =  4.795548515073801e-07\n",
      "point =  7.670286315496307\n",
      "probability of observing that point if it came from cluster 0 =  0.00033675141106198706\n",
      "probability of observing that point if it came from cluster 1 =  0.4643964534490095\n",
      "point =  4.507250753289579\n",
      "probability of observing that point if it came from cluster 0 =  0.33986354391259027\n",
      "probability of observing that point if it came from cluster 1 =  0.0006091971134613903\n",
      "5.2727316172409955\n",
      "Probability of coming from C_1 = 0.9727896316780936\n",
      "Probability of coming from C_2 = 0.02721036832190634\n",
      "\n",
      "6.482236136212417\n",
      "Probability of coming from C_1 = 0.15528599023527664\n",
      "Probability of coming from C_2 = 0.8447140097647234\n",
      "\n",
      "2.1896480385305463\n",
      "Probability of coming from C_1 = 0.9999999957713827\n",
      "Probability of coming from C_2 = 4.228617350879085e-09\n",
      "\n",
      "4.961042569289604\n",
      "Probability of coming from C_1 = 0.9934131486573806\n",
      "Probability of coming from C_2 = 0.006586851342619317\n",
      "\n",
      "8.750709320357622\n",
      "Probability of coming from C_1 = 3.625943941822486e-05\n",
      "Probability of coming from C_2 = 0.9999637405605817\n",
      "\n",
      "3.694520271239159\n",
      "Probability of coming from C_1 = 0.9999864389940353\n",
      "Probability of coming from C_2 = 1.3561005964754496e-05\n",
      "\n",
      "3.776428853518498\n",
      "Probability of coming from C_1 = 0.9999794203538933\n",
      "Probability of coming from C_2 = 2.057964610671548e-05\n",
      "\n",
      "3.12781498039314\n",
      "Probability of coming from C_1 = 0.9999992894675708\n",
      "Probability of coming from C_2 = 7.105324293167771e-07\n",
      "\n",
      "7.670286315496307\n",
      "Probability of coming from C_1 = 0.0016891301539283322\n",
      "Probability of coming from C_2 = 0.9983108698460718\n",
      "\n",
      "4.507250753289579\n",
      "Probability of coming from C_1 = 0.9992323858509342\n",
      "Probability of coming from C_2 = 0.0007676141490657709\n",
      "\n"
     ]
    }
   ],
   "source": [
    "from scipy.stats import norm\n",
    "\n",
    "prob_c0_x = [] # P(C_0 | X_i)\n",
    "prob_c1_x = [] # P(C_1 | X_i)\n",
    "prob_x = [] # P(X_i)\n",
    "\n",
    "k = 2\n",
    "\n",
    "for p in data:\n",
    "    print(\"point = \", p)\n",
    "    pdf_i = []\n",
    "\n",
    "    for j in range(k):\n",
    "        # P(X_i | C_j)\n",
    "        pdf_i.append(norm.pdf(p, mean[j], var[j]))\n",
    "        print(\"probability of observing that point if it came from cluster \" + str(j) + \" = \", pdf_i[j])\n",
    "        # P(C_j) already computed\n",
    "        prob_c[j]\n",
    "\n",
    "    # P(X_i) = P(C_0)P(X_i | C_0) + P(C_1)P(X_i | C_1)\n",
    "    prob_x = prob_c[0] * pdf_i[0] + prob_c[1] * pdf_i[1]\n",
    "\n",
    "    # P(C_j | X_i) = P(X_i | C_j)P(C_j) / P(X_i)\n",
    "    prob_c0_x.append(pdf_i[0] * prob_c[0] / prob_x)\n",
    "    prob_c1_x.append(pdf_i[1] * prob_c[1] / prob_x)\n",
    "\n",
    "\n",
    "probs = zip(data, prob_c0_x, prob_c1_x)\n",
    "for p in probs:\n",
    "    print(p[0])\n",
    "    print(\"Probability of coming from C_1 = \" + str(p[1]))\n",
    "    print(\"Probability of coming from C_2 = \" + str(p[2]))\n",
    "    print()\n"
   ]
  },
  {
   "cell_type": "markdown",
   "metadata": {},
   "source": [
    "f) Having computed `P(C_j | X_i)`, update the estimates of `mean_j`, `var_j`, and `P(C_j)`. How different are these values from the original ones you got from K means? briefly comment."
   ]
  },
  {
   "cell_type": "code",
   "execution_count": 18,
   "metadata": {},
   "outputs": [
    {
     "name": "stdout",
     "output_type": "stream",
     "text": [
      "P(C_1) = 0.7122411690601914,  P(C_2) = 0.28775883093980864\n",
      "mean_1 = 3.9831410597373544,  mean_2 = 7.667218529600239\n",
      "var_1 = 1.110595235178727,  var_2 = 0.893980635090848\n"
     ]
    }
   ],
   "source": [
    "prob_c = [sum(prob_c0_x) / len(prob_c0_x), sum(prob_c1_x) / len(prob_c1_x)]\n",
    "\n",
    "mean = []\n",
    "mean.append(sum([x[0] * x[1] for x in zip(prob_c0_x, data)]) / sum(prob_c0_x))\n",
    "mean.append(sum([x[0] * x[1] for x in zip(prob_c1_x, data)]) / sum(prob_c1_x))\n",
    "\n",
    "var = []\n",
    "var.append(sum([prob_c0_x[i] * (data[i] - mean[0])**2 for i in range(len(data))]) / sum(prob_c0_x))\n",
    "var.append(sum([prob_c1_x[i] * (data[i] - mean[1])**2 for i in range(len(data))]) / sum(prob_c1_x))\n",
    "\n",
    "\n",
    "print(\"P(C_1) = \" + str(prob_c[0]) + \",  P(C_2) = \" + str(prob_c[1]))\n",
    "print(\"mean_1 = \" + str(mean[0]) + \",  mean_2 = \" + str(mean[1]))\n",
    "print(\"var_1 = \" + str(var[0]) + \",  var_2 = \" + str(var[1]))"
   ]
  },
  {
   "cell_type": "markdown",
   "metadata": {},
   "source": [
    "Very close to the original values."
   ]
  },
  {
   "cell_type": "markdown",
   "metadata": {},
   "source": [
    "g) Update `P(C_j | X_i)`. Comment on any differences or lack thereof you observe."
   ]
  },
  {
   "cell_type": "code",
   "execution_count": 20,
   "metadata": {},
   "outputs": [
    {
     "data": {
      "text/plain": [
       "[(5.2727316172409955, 0.9628829561888023, 0.037117043811197736),\n",
       " (6.482236136212417, 0.22642564955364328, 0.7735743504463567),\n",
       " (2.1896480385305463, 0.9999999012486159, 9.875138414279613e-08),\n",
       " (4.961042569289604, 0.9886061544852868, 0.011393845514713135),\n",
       " (8.750709320357622, 0.00015395102962183205, 0.9998460489703781),\n",
       " (3.694520271239159, 0.9999314106987797, 6.858930122033018e-05),\n",
       " (3.776428853518498, 0.9999034483380013, 9.655166199876024e-05),\n",
       " (3.12781498039314, 0.99999381517979, 6.18482021001454e-06),\n",
       " (7.670286315496307, 0.004855410801576688, 0.9951445891984233),\n",
       " (4.507250753289579, 0.9980903739417072, 0.0019096260582927114)]"
      ]
     },
     "execution_count": 20,
     "metadata": {},
     "output_type": "execute_result"
    }
   ],
   "source": [
    "# Compute updated P(C_j | X_i) using the new parameter estimates\n",
    "\n",
    "prob_c0_x_new = [] \n",
    "prob_c1_x_new = []  \n",
    "\n",
    "for p in data:\n",
    "    pdf_i = []\n",
    "\n",
    "    for j in range(k):\n",
    "        pdf_i.append(norm.pdf(p, mean[j], np.sqrt(var[j])))\n",
    "\n",
    "    prob_x_i = prob_c[0] * pdf_i[0] + prob_c[1] * pdf_i[1]\n",
    "\n",
    "    prob_c0_x_new.append(pdf_i[0] * prob_c[0] / prob_x_i)\n",
    "    prob_c1_x_new.append(pdf_i[1] * prob_c[1] / prob_x_i)\n",
    "\n",
    "probs_new = list(zip(data, prob_c0_x_new, prob_c1_x_new))\n",
    "probs_new\n"
   ]
  },
  {
   "cell_type": "markdown",
   "metadata": {},
   "source": [
    "Very similar from previous estimate suggesting that parameters converged quickly. "
   ]
  },
  {
   "cell_type": "markdown",
   "metadata": {},
   "source": [
    "h) Use `P(C_j | X_i)` to create a hard assignment - label each point as belonging to a specific cluster (0 or 1)"
   ]
  },
  {
   "cell_type": "code",
   "execution_count": 24,
   "metadata": {},
   "outputs": [
    {
     "data": {
      "text/plain": [
       "[(5.2727316172409955, 0),\n",
       " (6.482236136212417, 1),\n",
       " (2.1896480385305463, 0),\n",
       " (4.961042569289604, 0),\n",
       " (8.750709320357622, 1),\n",
       " (3.694520271239159, 0),\n",
       " (3.776428853518498, 0),\n",
       " (3.12781498039314, 0),\n",
       " (7.670286315496307, 1),\n",
       " (4.507250753289579, 0)]"
      ]
     },
     "execution_count": 24,
     "metadata": {},
     "output_type": "execute_result"
    }
   ],
   "source": [
    "cluster_assignments = [0 if prob_c0 > prob_c1 else 1 for prob_c0, prob_c1 in zip(prob_c0_x_new, prob_c1_x_new)]\n",
    "\n",
    "clustered_data = list(zip(data, cluster_assignments))\n",
    "clustered_data\n"
   ]
  },
  {
   "cell_type": "markdown",
   "metadata": {},
   "source": [
    "### Clustering Aggregation\n",
    "\n",
    "| Point | C | P |\n",
    "|-------|---|---|\n",
    "| A     | 0 | a |\n",
    "| B     | 0 | b |\n",
    "| C     | 2 | b |\n",
    "| D     | 1 | c |\n",
    "| E     | 1 | d |\n",
    "\n",
    "a) Fill in the following table where for each pair of points determine whether C and P agree or disagree on how to cluster that pair."
   ]
  },
  {
   "cell_type": "markdown",
   "metadata": {},
   "source": [
    "| Pair | Disagreement |\n",
    "|------|--------------|\n",
    "| A  B |      Disagree       |\n",
    "| A  C |      Agree       |\n",
    "| A  D |      Agree       |\n",
    "| A  E |      Agree       |\n",
    "| B  C |      Disagree       |\n",
    "| B  D |      Agree       |\n",
    "| B  E |      Agree       |\n",
    "| C  D |      Agree       |\n",
    "| C  E |      Agree       |\n",
    "| D  E |      Disagree       |\n"
   ]
  },
  {
   "cell_type": "markdown",
   "metadata": {},
   "source": [
    "As datasets become very large, this process can become computationally challenging.\n",
    "\n",
    "b) Given N points, what is the formula for the number of unique pairs of points one can create?"
   ]
  },
  {
   "cell_type": "markdown",
   "metadata": {},
   "source": [
    "$${N\\choose2} = {{N!}\\over{2!*(N-2)!}}$$"
   ]
  },
  {
   "cell_type": "markdown",
   "metadata": {},
   "source": [
    "Assume that clustering C clusters all points in the same cluster and clustering P clusters points as such:\n",
    "\n",
    "| Point | P |\n",
    "|-------|---|\n",
    "| A     | 0 |\n",
    "| B     | 0 |\n",
    "| C     | 0 |\n",
    "| D     | 1 |\n",
    "| E     | 1 |\n",
    "| F     | 2 |\n",
    "| G     | 2 |\n",
    "| H     | 2 |\n",
    "| I     | 2 |\n",
    "\n",
    "c) What is the maximum number of disagreements there could be for a dataset of this size? (use the formula from b)?"
   ]
  },
  {
   "cell_type": "markdown",
   "metadata": {},
   "source": [
    "36\n"
   ]
  },
  {
   "cell_type": "markdown",
   "metadata": {},
   "source": [
    "d) If we look at cluster 0. There are (3 x 2) / 2 = 3 pairs that agree with C (since all points in C are in the same cluster). For each cluster, determine how many agreements there are. How many total agreements are there? How many disagreements does that mean there are between C and P?"
   ]
  },
  {
   "cell_type": "markdown",
   "metadata": {},
   "source": [
    "11 agreements, 25 disagreements"
   ]
  },
  {
   "cell_type": "markdown",
   "metadata": {},
   "source": [
    "e) Assuming that filtering the dataset by cluster number is a computationally easy operation, describe an algorithm inspired by the above process that can efficiently compute disagreement distances on large datasets."
   ]
  },
  {
   "cell_type": "markdown",
   "metadata": {},
   "source": []
  }
 ],
 "metadata": {
  "interpreter": {
   "hash": "76ca05dc3ea24b2e3b98cdb7774adfbb40773424bf5109b477fd793f623715af"
  },
  "kernelspec": {
   "display_name": "Python 3.9.9 64-bit ('env': venv)",
   "language": "python",
   "name": "python3"
  },
  "language_info": {
   "codemirror_mode": {
    "name": "ipython",
    "version": 3
   },
   "file_extension": ".py",
   "mimetype": "text/x-python",
   "name": "python",
   "nbconvert_exporter": "python",
   "pygments_lexer": "ipython3",
   "version": "3.11.2"
  },
  "orig_nbformat": 4
 },
 "nbformat": 4,
 "nbformat_minor": 2
}
