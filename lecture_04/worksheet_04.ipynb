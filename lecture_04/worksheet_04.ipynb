{
 "cells": [
  {
   "cell_type": "markdown",
   "metadata": {},
   "source": [
    "# Worksheet 04\n",
    "\n",
    "Name: Dmitriy Kazlouski \n",
    "UID: U49144585\n",
    "\n",
    "### Topics\n",
    "\n",
    "- Distance & Similarity"
   ]
  },
  {
   "cell_type": "markdown",
   "metadata": {},
   "source": [
    "### Distance & Similarity\n",
    "\n",
    "#### Part 1\n",
    "\n",
    "a) In the minkowski distance, describe what the parameters p and d are."
   ]
  },
  {
   "cell_type": "markdown",
   "metadata": {},
   "source": [
    "In the Minkowski distance, p determines the general behavior and characteristics of the distance measure and d represents the dimensionality of the data. "
   ]
  },
  {
   "cell_type": "markdown",
   "metadata": {},
   "source": [
    "b) In your own words describe the difference between the Euclidean distance and the Manhattan distance."
   ]
  },
  {
   "cell_type": "markdown",
   "metadata": {},
   "source": [
    "Both the Euclidean distance and the Manhattan distance are specific cases of the Minkowski distance, the difference lies in the differnt p values. Spefically, the Manhattan distance (p=1) measures the path between two points through vertical and horizontal gridlines vs the Euclidean distance (p=2) which measures the shortest path between two points in any possible way. "
   ]
  },
  {
   "cell_type": "markdown",
   "metadata": {},
   "source": [
    "Consider A = (0, 0) and B = (1, 1). When:\n",
    "\n",
    "- p = 1, d(A, B) = 2\n",
    "- p = 2, d(A, B) = $\\sqrt{2} = 1.41$\n",
    "- p = 3, d(A, B) = $2^{1/3} = 1.26$\n",
    "- p = 4, d(A, B) = $2^{1/4} = 1.19$\n",
    "\n",
    "c) Describe what you think distance would look like when p is very large."
   ]
  },
  {
   "cell_type": "markdown",
   "metadata": {},
   "source": [
    "The distance will approach 1 as p gets very large because the contribution of the largest differences between dimensions dominates the distance metric and the smaller differences start mattering less and less."
   ]
  },
  {
   "cell_type": "markdown",
   "metadata": {},
   "source": [
    "d) Is the minkowski distance still a distance function when p < 1? Expain why / why not."
   ]
  },
  {
   "cell_type": "markdown",
   "metadata": {},
   "source": [
    "When p < 1 the Minkowski distance is no longer a distance function because it no longer satisfies all the properties of a distance function (violates the triangle inequality)."
   ]
  },
  {
   "cell_type": "markdown",
   "metadata": {},
   "source": [
    "e) when would you use cosine similarity over the euclidan distance?"
   ]
  },
  {
   "cell_type": "markdown",
   "metadata": {},
   "source": [
    "You would use cosine similarity over the euclidean distance when the direction matters more than magnitude. "
   ]
  },
  {
   "cell_type": "markdown",
   "metadata": {},
   "source": [
    "f) what does the jaccard distance account for that the manhattan distance doesn't?"
   ]
  },
  {
   "cell_type": "markdown",
   "metadata": {},
   "source": [
    "The Jaccard distance accounts for sets and binary data ie comparing two users based on purchased items (whether they purchased an item or not) whereas the Manhattan distance is for numerical vectors and would be used to compare different users based on items purchased from different categories. "
   ]
  },
  {
   "cell_type": "markdown",
   "metadata": {},
   "source": [
    "#### Part 2\n",
    "\n",
    "Consider the following two sentences:"
   ]
  },
  {
   "cell_type": "code",
   "execution_count": 1,
   "metadata": {},
   "outputs": [],
   "source": [
    "s1 = \"hello my name is Alice\"  \n",
    "s2 = \"hello my name is Bob\""
   ]
  },
  {
   "cell_type": "markdown",
   "metadata": {},
   "source": [
    "using the union of words from both sentences, we can represent each sentence as a vector. Each element of the vector represents the presence or absence of the word at that index.\n",
    "\n",
    "In this example, the union of words is (\"hello\", \"my\", \"name\", \"is\", \"Alice\", \"Bob\") so we can represent the above sentences as such:"
   ]
  },
  {
   "cell_type": "code",
   "execution_count": 2,
   "metadata": {},
   "outputs": [],
   "source": [
    "v1 = [1,    1, 1,   1, 1,    0]\n",
    "#     hello my name is Alice\n",
    "v2 = [1,    1, 1,   1, 0, 1]\n",
    "#     hello my name is    Bob"
   ]
  },
  {
   "cell_type": "markdown",
   "metadata": {},
   "source": [
    "Programmatically, we can do the following:"
   ]
  },
  {
   "cell_type": "code",
   "execution_count": 3,
   "metadata": {},
   "outputs": [
    {
     "name": "stdout",
     "output_type": "stream",
     "text": [
      "['Bob', 'my', 'is', 'hello', 'Alice', 'name']\n",
      "[0, 1, 1, 1, 1, 1]\n"
     ]
    }
   ],
   "source": [
    "corpus = [s1, s2]\n",
    "all_words = list(set([item for x in corpus for item in x.split()]))\n",
    "print(all_words)\n",
    "v1 = [1 if x in s1 else 0 for x in all_words]\n",
    "print(v1)"
   ]
  },
  {
   "cell_type": "markdown",
   "metadata": {},
   "source": [
    "Let's add a new sentence to our corpus:"
   ]
  },
  {
   "cell_type": "code",
   "execution_count": 4,
   "metadata": {},
   "outputs": [],
   "source": [
    "s3 = \"hi my name is Claude\"\n",
    "corpus.append(s3)"
   ]
  },
  {
   "cell_type": "markdown",
   "metadata": {},
   "source": [
    "a) What is the new union of words used to represent s1, s2, and s3?"
   ]
  },
  {
   "cell_type": "markdown",
   "metadata": {},
   "source": [
    "The new union of words used to represent s1, s2, and s3: hello, my, name, is, Alice, Bob, hi, Claude"
   ]
  },
  {
   "cell_type": "markdown",
   "metadata": {},
   "source": [
    "b) Represent s1, s2, and s3 as vectors as above, using this new set of words."
   ]
  },
  {
   "cell_type": "code",
   "execution_count": 7,
   "metadata": {},
   "outputs": [],
   "source": [
    "v1 = [1, 1, 1, 1, 1, 0, 0, 0]  # hello my name is Alice\n",
    "v2 = [1, 1, 1, 1, 0, 1, 0, 0]  # hello my name is Bob\n",
    "v3 = [0, 1, 1, 1, 0, 0, 1, 1]  # my name is Claude hi"
   ]
  },
  {
   "cell_type": "markdown",
   "metadata": {},
   "source": [
    "c) Write a function that computes the manhattan distance between two vectors. Which pair of vectors are the most similar under that distance function?"
   ]
  },
  {
   "cell_type": "code",
   "execution_count": 9,
   "metadata": {},
   "outputs": [
    {
     "name": "stdout",
     "output_type": "stream",
     "text": [
      "Manhattan distance between v1 and v2: 2\n",
      "Manhattan distance between v1 and v3: 4\n",
      "Manhattan distance between v2 and v3: 4\n"
     ]
    }
   ],
   "source": [
    "def manhattan_distance(v1, v2):\n",
    "    if len(v1) != len(v2):\n",
    "        raise ValueError(\"The vectors must be of the same length\")\n",
    "    return sum(abs(x - y) for x, y in zip(v1, v2))\n",
    "\n",
    "\n",
    "dist_v1_v2 = manhattan_distance(v1, v2)\n",
    "dist_v1_v3 = manhattan_distance(v1, v3)\n",
    "dist_v2_v3 = manhattan_distance(v2, v3)\n",
    "\n",
    "print(\"Manhattan distance between v1 and v2:\", dist_v1_v2)\n",
    "print(\"Manhattan distance between v1 and v3:\", dist_v1_v3)\n",
    "print(\"Manhattan distance between v2 and v3:\", dist_v2_v3)\n"
   ]
  },
  {
   "cell_type": "markdown",
   "metadata": {},
   "source": [
    "Vectors v1 and v2 are the most similar under the Manhattan Distance function because the distance=2 is the smallest. "
   ]
  },
  {
   "cell_type": "markdown",
   "metadata": {},
   "source": [
    "d) Create a matrix of all these vectors (row major) and add the following sentences in vector form:\n",
    "\n",
    "- \"hi Alice\"\n",
    "- \"hello Claude\"\n",
    "- \"Bob my name is Claude\"\n",
    "- \"hi Claude my name is Alice\"\n",
    "- \"hello Bob\""
   ]
  },
  {
   "cell_type": "code",
   "execution_count": 12,
   "metadata": {},
   "outputs": [
    {
     "name": "stdout",
     "output_type": "stream",
     "text": [
      "Union of words: ['hi', 'Bob', 'my', 'is', 'Claude', 'hello', 'Alice', 'name']\n",
      "[0, 0, 1, 1, 0, 1, 1, 1]\n",
      "[0, 1, 1, 1, 0, 1, 0, 1]\n",
      "[1, 0, 1, 1, 1, 0, 0, 1]\n",
      "[1, 0, 0, 0, 0, 0, 1, 0]\n",
      "[0, 0, 0, 0, 1, 1, 0, 0]\n",
      "[0, 1, 1, 1, 1, 0, 0, 1]\n",
      "[1, 0, 1, 1, 1, 0, 1, 1]\n",
      "[0, 1, 0, 0, 0, 1, 0, 0]\n"
     ]
    }
   ],
   "source": [
    "# Given sentences: \n",
    "s1 = \"hello my name is Alice\"\n",
    "s2 = \"hello my name is Bob\"\n",
    "s3 = \"hi my name is Claude\"\n",
    "s4 = \"hi Alice\"\n",
    "s5 = \"hello Claude\"\n",
    "s6 = \"Bob my name is Claude\"\n",
    "s7 = \"hi Claude my name is Alice\"\n",
    "s8 = \"hello Bob\"\n",
    "\n",
    "corpus = [s1, s2, s3, s4, s5, s6, s7, s8]\n",
    "\n",
    "# Get the union of words\n",
    "all_words = list(set(word for sentence in corpus for word in sentence.split()))\n",
    "print(\"Union of words:\", all_words)\n",
    "\n",
    "# Convert each sentence into a vector based on the union of words\n",
    "def sentence_to_vector(sentence, all_words):\n",
    "    return [1 if word in sentence.split() else 0 for word in all_words]\n",
    "\n",
    "# Create the matrix\n",
    "matrix = [sentence_to_vector(sentence, all_words) for sentence in corpus]\n",
    "for row in matrix:\n",
    "    print(row)\n",
    "\n"
   ]
  },
  {
   "cell_type": "markdown",
   "metadata": {},
   "source": [
    "e) How many rows and columns does this matrix have?"
   ]
  },
  {
   "cell_type": "markdown",
   "metadata": {},
   "source": [
    "This matrix has 8 rows and 8 columns"
   ]
  },
  {
   "cell_type": "markdown",
   "metadata": {},
   "source": [
    "f) When using the Manhattan distance, which two sentences are the most similar?"
   ]
  },
  {
   "cell_type": "code",
   "execution_count": 15,
   "metadata": {},
   "outputs": [
    {
     "name": "stdout",
     "output_type": "stream",
     "text": [
      "The most similar sentences are (using Manhattan Distance):\n",
      "hi my name is Claude\n",
      "and\n",
      "hi Claude my name is Alice\n"
     ]
    }
   ],
   "source": [
    "def manhattan_distance(v1, v2):\n",
    "    return sum(abs(x - y) for x, y in zip(v1, v2))\n",
    "\n",
    "min_distance = float('inf')  \n",
    "most_similar_pair = None\n",
    "\n",
    "for i in range(len(corpus)):\n",
    "    for j in range(i+1, len(corpus)):  # Avoid computing distance with itself and redundant pairs\n",
    "        distance = manhattan_distance(matrix[i], matrix[j])\n",
    "        if distance < min_distance:\n",
    "            min_distance = distance\n",
    "            most_similar_pair = (corpus[i], corpus[j])\n",
    "\n",
    "print(\"The most similar sentences are (using Manhattan Distance):\")\n",
    "print(most_similar_pair[0])\n",
    "print(\"and\")\n",
    "print(most_similar_pair[1])\n"
   ]
  }
 ],
 "metadata": {
  "kernelspec": {
   "display_name": "Python 3 (ipykernel)",
   "language": "python",
   "name": "python3"
  },
  "language_info": {
   "codemirror_mode": {
    "name": "ipython",
    "version": 3
   },
   "file_extension": ".py",
   "mimetype": "text/x-python",
   "name": "python",
   "nbconvert_exporter": "python",
   "pygments_lexer": "ipython3",
   "version": "3.11.4"
  },
  "vscode": {
   "interpreter": {
    "hash": "76ca05dc3ea24b2e3b98cdb7774adfbb40773424bf5109b477fd793f623715af"
   }
  }
 },
 "nbformat": 4,
 "nbformat_minor": 2
}
