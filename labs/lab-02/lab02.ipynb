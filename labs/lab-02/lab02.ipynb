{
 "cells": [
  {
   "attachments": {},
   "cell_type": "markdown",
   "metadata": {},
   "source": [
    "## Lab 02 - Pandas and Data Visualization\n",
    "This notebook will introduce you to the basics of Pandas and Data Visualization. You will learn how to load data into a Pandas DataFrame, how to perform basic data analysis, and how to visualize data. The first part of this notebook will be an interactive tutorial, and the second part will be practice exercises for you to do! **Note that the practice problems will be checked when submitted!**"
   ]
  },
  {
   "cell_type": "markdown",
   "metadata": {},
   "source": [
    "#### Pandas\n",
    "Pandas is a popular open-source Python library that provides data structures and data analysis tools for working with structured data. Pandas is a versatile library that simplifies data manipulation, analysis, and exploration in Python. Some of its uses:\n",
    "* Tabular Data Handling\n",
    "* Data Cleaning and Transformation\n",
    "* Data Exploration\n",
    "* Data Import/Export\n",
    "* Data Visualization\n",
    "\n",
    "#### Matplotlib\n",
    "Matplotlib is a widely used for creating static, animated, and interactive visualizations. Whether you are conducting data analysis, scientific research, or data communication, Matplotlib helps you present your findings effectively and intuitively."
   ]
  },
  {
   "attachments": {},
   "cell_type": "markdown",
   "metadata": {},
   "source": [
    "### Pre-requisites"
   ]
  },
  {
   "cell_type": "code",
   "execution_count": 1,
   "metadata": {},
   "outputs": [],
   "source": [
    "# In case you don't have pandas, uncomment\n",
    "# the following lines and run the cell\n",
    "\n",
    "# %pip install pandas"
   ]
  },
  {
   "attachments": {},
   "cell_type": "markdown",
   "metadata": {},
   "source": [
    "### Overview\n",
    "In this notebook, you will be learning how to use the Pandas library by working with the `cookies.csv` file. \n",
    "\n",
    "#### `cookies.csv` file :\n",
    "\n",
    "The `cookies.csv` file contains information about cookies that were made in Rico's Bisquito's factory. \n",
    "\n",
    "The columns are the following:\n",
    "\n",
    "`cookie`: the name of a cookie\n",
    "`ingredients`: a list of the cookie's ingredients\n",
    "`calories`: the number of calories the created cookie has\n",
    "`radius`: the radius of the created cookie, in cm\n",
    "`cost_to_make`: the cost it took to make the created cookie, in dollars"
   ]
  },
  {
   "attachments": {},
   "cell_type": "markdown",
   "metadata": {},
   "source": [
    "### Reading the CSV file\n",
    "\n",
    "First, we need to import the Pandas library. We will be using the `pd` alias for the Pandas library."
   ]
  },
  {
   "cell_type": "code",
   "execution_count": 3,
   "metadata": {},
   "outputs": [],
   "source": [
    "#TODO: import pandas and matplotlib in this cell\n",
    "import pandas as pd\n",
    "import matplotlib.pyplot as plt\n"
   ]
  },
  {
   "attachments": {},
   "cell_type": "markdown",
   "metadata": {},
   "source": [
    "We will now look at the `cookies.csv` file. We will use the `pd.read_csv()` function to read in the CSV file. We will store the data in a variable called `cookies`."
   ]
  },
  {
   "cell_type": "code",
   "execution_count": 4,
   "metadata": {},
   "outputs": [],
   "source": [
    "#TODO: read the cookies.csv file into a pandas dataframe\n",
    "\n",
    "cookies = pd.read_csv('cookies.csv')"
   ]
  },
  {
   "attachments": {},
   "cell_type": "markdown",
   "metadata": {},
   "source": [
    "#### Dataframe\n",
    "Dataframes are a data structure that Pandas uses to store data. Dataframes are similar to tables in a database. Dataframes have rows and columns. Each row represents a single data point, and each column represents a feature of the data point."
   ]
  },
  {
   "attachments": {},
   "cell_type": "markdown",
   "metadata": {},
   "source": [
    "We will then make sure we imported the data correctly by printing out the first 10 rows of the data, using the `head()` function."
   ]
  },
  {
   "cell_type": "code",
   "execution_count": 5,
   "metadata": {},
   "outputs": [
    {
     "name": "stdout",
     "output_type": "stream",
     "text": [
      "            cookie                                        ingredients  \\\n",
      "0     laddoo lemon             [\"flour\",\"lemon juice\",\"sugar\",\"ghee\"]   \n",
      "1  red velvet rauw  [\"flour\",\"cocoa powder\",\"butter\",\"red food col...   \n",
      "2         nevadito  [\"flour\",\"chocolate chips\",\"milk\",\"vanilla ext...   \n",
      "3  red velvet rauw  [\"flour\",\"cocoa powder\",\"butter\",\"red food col...   \n",
      "4  bad berry bunny           [\"flour\",\"blueberries\",\"sugar\",\"butter\"]   \n",
      "\n",
      "   calories  radius  cost_to_make  \n",
      "0       170   3.102          0.67  \n",
      "1       198   3.780          1.07  \n",
      "2       224   4.069          1.04  \n",
      "3       198   3.780          1.07  \n",
      "4       191   4.148          1.39  \n"
     ]
    }
   ],
   "source": [
    "#TODO: print the head of the dataframe\n",
    "\n",
    "print(cookies.head())"
   ]
  },
  {
   "attachments": {},
   "cell_type": "markdown",
   "metadata": {},
   "source": [
    "### Checking data types\n",
    "You can check the data types of each column using the `dtypes` attribute of the DataFrame."
   ]
  },
  {
   "cell_type": "code",
   "execution_count": 6,
   "metadata": {},
   "outputs": [
    {
     "name": "stdout",
     "output_type": "stream",
     "text": [
      "cookie           object\n",
      "ingredients      object\n",
      "calories          int64\n",
      "radius          float64\n",
      "cost_to_make    float64\n",
      "dtype: object\n"
     ]
    }
   ],
   "source": [
    "#TODO: check the data types of the columns\n",
    "print(cookies.dtypes)\n"
   ]
  },
  {
   "cell_type": "markdown",
   "metadata": {},
   "source": [
    "Now, lets use use `info()` function to get more information about the Dataframe"
   ]
  },
  {
   "cell_type": "code",
   "execution_count": 7,
   "metadata": {},
   "outputs": [
    {
     "name": "stdout",
     "output_type": "stream",
     "text": [
      "<class 'pandas.core.frame.DataFrame'>\n",
      "RangeIndex: 129 entries, 0 to 128\n",
      "Data columns (total 5 columns):\n",
      " #   Column        Non-Null Count  Dtype  \n",
      "---  ------        --------------  -----  \n",
      " 0   cookie        129 non-null    object \n",
      " 1   ingredients   129 non-null    object \n",
      " 2   calories      129 non-null    int64  \n",
      " 3   radius        129 non-null    float64\n",
      " 4   cost_to_make  114 non-null    float64\n",
      "dtypes: float64(2), int64(1), object(2)\n",
      "memory usage: 5.2+ KB\n",
      "None\n"
     ]
    }
   ],
   "source": [
    "# TODO: use info() to get information about datatypes and null values\n",
    "print(cookies.info())\n"
   ]
  },
  {
   "attachments": {},
   "cell_type": "markdown",
   "metadata": {},
   "source": [
    "### Cleaning the data\n",
    "Now that we have the data, we need to clean it. For example, some `cost_to_make` fields of some created cookies are missing. To resolve this, we can do many things: we can replace the missing data with the mean of the column, or we can get rid of the row entirely if the `cost_to_make` field is not set. "
   ]
  },
  {
   "cell_type": "code",
   "execution_count": 9,
   "metadata": {},
   "outputs": [
    {
     "name": "stdout",
     "output_type": "stream",
     "text": [
      "            cookie                                        ingredients  \\\n",
      "0     laddoo lemon             [\"flour\",\"lemon juice\",\"sugar\",\"ghee\"]   \n",
      "1  red velvet rauw  [\"flour\",\"cocoa powder\",\"butter\",\"red food col...   \n",
      "2         nevadito  [\"flour\",\"chocolate chips\",\"milk\",\"vanilla ext...   \n",
      "3  red velvet rauw  [\"flour\",\"cocoa powder\",\"butter\",\"red food col...   \n",
      "4  bad berry bunny           [\"flour\",\"blueberries\",\"sugar\",\"butter\"]   \n",
      "\n",
      "   calories  radius  cost_to_make  \n",
      "0       170   3.102          0.67  \n",
      "1       198   3.780          1.07  \n",
      "2       224   4.069          1.04  \n",
      "3       198   3.780          1.07  \n",
      "4       191   4.148          1.39  \n",
      "            cookie                                        ingredients  \\\n",
      "0     laddoo lemon             [\"flour\",\"lemon juice\",\"sugar\",\"ghee\"]   \n",
      "1  red velvet rauw  [\"flour\",\"cocoa powder\",\"butter\",\"red food col...   \n",
      "2         nevadito  [\"flour\",\"chocolate chips\",\"milk\",\"vanilla ext...   \n",
      "3  red velvet rauw  [\"flour\",\"cocoa powder\",\"butter\",\"red food col...   \n",
      "4  bad berry bunny           [\"flour\",\"blueberries\",\"sugar\",\"butter\"]   \n",
      "\n",
      "   calories  radius  cost_to_make  \n",
      "0       170   3.102          0.67  \n",
      "1       198   3.780          1.07  \n",
      "2       224   4.069          1.04  \n",
      "3       198   3.780          1.07  \n",
      "4       191   4.148          1.39  \n"
     ]
    }
   ],
   "source": [
    "#TODO: clean the dataframe and \n",
    "# print the head again to make sure \n",
    "# the changes took effect\n",
    "\n",
    "# Calculate the mean of the 'cost_to_make' column\n",
    "mean_cost = cookies['cost_to_make'].mean()\n",
    "\n",
    "# Fill missing values with the mean\n",
    "cookies['cost_to_make'].fillna(mean_cost, inplace=True)\n",
    "\n",
    "# Print the head of the dataframe to verify changes\n",
    "print(cookies.head())\n",
    "\n",
    "\n",
    "# Drop rows with missing 'cost_to_make' values\n",
    "cookies.dropna(subset=['cost_to_make'], inplace=True)\n",
    "\n",
    "# Print the head of the dataframe to verify changes\n",
    "print(cookies.head())\n",
    "\n"
   ]
  },
  {
   "attachments": {},
   "cell_type": "markdown",
   "metadata": {},
   "source": [
    "To also make sure we removed null values, we can check the number of null values in each column using the `isnull()` function."
   ]
  },
  {
   "cell_type": "code",
   "execution_count": 11,
   "metadata": {},
   "outputs": [
    {
     "name": "stdout",
     "output_type": "stream",
     "text": [
      "cookie          0\n",
      "ingredients     0\n",
      "calories        0\n",
      "radius          0\n",
      "cost_to_make    0\n",
      "dtype: int64\n"
     ]
    }
   ],
   "source": [
    "#TODO: use the isnull method to make sure your data is clean\n",
    "#Done in previous step\n",
    "print(cookies.isnull().sum())\n"
   ]
  },
  {
   "cell_type": "markdown",
   "metadata": {},
   "source": [
    "Next, lets check for duplicate rows using the `duplicated()` function. Then, remove those rows using `drop_duplicates()` function."
   ]
  },
  {
   "cell_type": "code",
   "execution_count": 12,
   "metadata": {},
   "outputs": [
    {
     "name": "stdout",
     "output_type": "stream",
     "text": [
      "Number of duplicate rows: 11\n",
      "Dataframe shape after removing duplicates: (118, 5)\n"
     ]
    }
   ],
   "source": [
    "# TODO: check for duplicate rows\n",
    "# then delete those rows form df\n",
    "\n",
    "# Check for duplicate rows\n",
    "duplicate_rows = cookies[cookies.duplicated()]\n",
    "print(f\"Number of duplicate rows: {len(duplicate_rows)}\")\n",
    "\n",
    "# Remove duplicate rows\n",
    "cookies.drop_duplicates(inplace=True)\n",
    "\n",
    "# Verify changes by checking the shape of the dataframe\n",
    "print(f\"Dataframe shape after removing duplicates: {cookies.shape}\")\n"
   ]
  },
  {
   "attachments": {},
   "cell_type": "markdown",
   "metadata": {},
   "source": [
    "### Parsing the data\n",
    "Now that we have the data, we could parse it to get the information we want. For example, we can check what types of cookies were made by using the `unique()` function on the `cookie` column."
   ]
  },
  {
   "cell_type": "code",
   "execution_count": 13,
   "metadata": {},
   "outputs": [
    {
     "name": "stdout",
     "output_type": "stream",
     "text": [
      "['laddoo lemon' 'red velvet rauw' 'nevadito' 'bad berry bunny'\n",
      " 'orange ozuna' 'minty miami' 'chocolate']\n"
     ]
    }
   ],
   "source": [
    "#TODO: see what cookies are in the dataset\n",
    "# Get unique cookies from the 'cookie' column\n",
    "unique_cookies = cookies['cookie'].unique()\n",
    "\n",
    "# Print the unique cookies\n",
    "print(unique_cookies)\n"
   ]
  },
  {
   "attachments": {},
   "cell_type": "markdown",
   "metadata": {},
   "source": [
    "We can also check the number of cookies made by using the `value_counts()` function on the `cookie` column."
   ]
  },
  {
   "cell_type": "code",
   "execution_count": 14,
   "metadata": {},
   "outputs": [
    {
     "name": "stdout",
     "output_type": "stream",
     "text": [
      "cookie\n",
      "red velvet rauw    18\n",
      "laddoo lemon       17\n",
      "nevadito           17\n",
      "bad berry bunny    17\n",
      "orange ozuna       17\n",
      "minty miami        17\n",
      "chocolate          15\n",
      "Name: count, dtype: int64\n"
     ]
    }
   ],
   "source": [
    "#TODO: use value_counts() to see how many \n",
    "# cookies of each type there are\n",
    "# Get the count of each type of cookie\n",
    "cookie_counts = cookies['cookie'].value_counts()\n",
    "\n",
    "# Print the counts\n",
    "print(cookie_counts)\n"
   ]
  },
  {
   "attachments": {},
   "cell_type": "markdown",
   "metadata": {},
   "source": [
    "Or maybe we don't like how long the names of the cookies are, so we can shorten them by using the `replace()` function on the `cookie` column.\n",
    "\n",
    "For example, let's try changing `\"bad berry bunny\"` to `\"bbb\"`."
   ]
  },
  {
   "cell_type": "code",
   "execution_count": 15,
   "metadata": {},
   "outputs": [
    {
     "name": "stdout",
     "output_type": "stream",
     "text": [
      "['laddoo lemon' 'red velvet rauw' 'nevadito' 'bbb' 'orange ozuna'\n",
      " 'minty miami' 'chocolate']\n"
     ]
    }
   ],
   "source": [
    "#TODO: change bad berry bunny data elements to \"bbb\"\n",
    "# Replace 'bad berry bunny' with 'bbb' in the 'cookie' column\n",
    "cookies['cookie'] = cookies['cookie'].replace('bad berry bunny', 'bbb')\n",
    "\n",
    "# Verify the changes by displaying the unique values in the 'cookie' column\n",
    "print(cookies['cookie'].unique())\n"
   ]
  },
  {
   "attachments": {},
   "cell_type": "markdown",
   "metadata": {},
   "source": [
    "We may even like the original names better, but we may want to get rid of the spaces. For example, we can change `\"orange ozuna\"` to `\"orange_ozuna\"`. Here, we will use the `str.replace()` function."
   ]
  },
  {
   "cell_type": "code",
   "execution_count": 16,
   "metadata": {},
   "outputs": [
    {
     "name": "stdout",
     "output_type": "stream",
     "text": [
      "['laddoo lemon' 'red velvet rauw' 'nevadito' 'bbb' 'orange_ozuna'\n",
      " 'minty miami' 'chocolate']\n"
     ]
    }
   ],
   "source": [
    "#TODO: adjust orange ozuna as described\n",
    "\n",
    "# Replace spaces in 'orange ozuna' with underscores in the 'cookie' column\n",
    "cookies['cookie'] = cookies['cookie'].str.replace('orange ozuna', 'orange_ozuna')\n",
    "\n",
    "# Verify the changes by displaying the unique values in the 'cookie' column\n",
    "print(cookies['cookie'].unique())\n"
   ]
  },
  {
   "attachments": {},
   "cell_type": "markdown",
   "metadata": {},
   "source": [
    "We may even just want to keep the first word of the cookie name. For example, we can change `\"orange_ozuna\"` to `\"orange\"`."
   ]
  },
  {
   "cell_type": "code",
   "execution_count": 18,
   "metadata": {},
   "outputs": [
    {
     "name": "stdout",
     "output_type": "stream",
     "text": [
      "['laddoo' 'red' 'nevadito' 'bbb' 'orange' 'minty' 'chocolate']\n"
     ]
    }
   ],
   "source": [
    "#TODO: adjust all cookies so only the first word\n",
    "# is used as the cookie name\n",
    "\n",
    "# Keep only the first word/portion of each cookie name in the 'cookie' column\n",
    "cookies['cookie'] = cookies['cookie'].apply(lambda x: x.split()[0] if ' ' in x else x.split('_')[0])\n",
    "\n",
    "# Verify the changes by displaying the unique values in the 'cookie' column\n",
    "print(cookies['cookie'].unique())\n",
    "\n"
   ]
  },
  {
   "attachments": {},
   "cell_type": "markdown",
   "metadata": {},
   "source": [
    "Another thing that may come to mind is that maybe getting flour could cost more money due to inflation, so we have to adjust our `cost_to_make` values. We can do this by using the `apply()` function on the `cost_to_make` column."
   ]
  },
  {
   "cell_type": "code",
   "execution_count": 19,
   "metadata": {},
   "outputs": [
    {
     "name": "stdout",
     "output_type": "stream",
     "text": [
      "     cookie                                        ingredients  calories  \\\n",
      "0    laddoo             [\"flour\",\"lemon juice\",\"sugar\",\"ghee\"]       170   \n",
      "1       red  [\"flour\",\"cocoa powder\",\"butter\",\"red food col...       198   \n",
      "2  nevadito  [\"flour\",\"chocolate chips\",\"milk\",\"vanilla ext...       224   \n",
      "4       bbb           [\"flour\",\"blueberries\",\"sugar\",\"butter\"]       191   \n",
      "5    orange   [\"flour\",\"orange juice\",\"sugar\",\"vegetable oil\"]       162   \n",
      "\n",
      "   radius  cost_to_make  \n",
      "0   3.102          1.17  \n",
      "1   3.780          1.57  \n",
      "2   4.069          1.54  \n",
      "4   4.148          1.89  \n",
      "5   3.241          1.65  \n"
     ]
    }
   ],
   "source": [
    "#Don't edit this method\n",
    "def adjust_cost(cost):\n",
    "    return cost + 0.5\n",
    "\n",
    "#TODO: use apply() to adjust the cost_to_make column.\n",
    "cookies['cost_to_make'] = cookies['cost_to_make'].apply(adjust_cost)\n",
    "\n",
    "# Verify the changes by displaying the head of the dataframe\n",
    "print(cookies.head())\n"
   ]
  },
  {
   "attachments": {},
   "cell_type": "markdown",
   "metadata": {},
   "source": [
    "And we can do a lot more things! We will see these concepts be used in the next homework assignment, along with a couple new ones to show you how powerful Pandas is."
   ]
  },
  {
   "attachments": {},
   "cell_type": "markdown",
   "metadata": {},
   "source": [
    "### More complicated operations: Grouping, Filtering, Aggregating"
   ]
  },
  {
   "cell_type": "markdown",
   "metadata": {},
   "source": [
    "Before trying out these complicated operations, lets first sort the sort the df by the radius of the cookies using the `sort_values()` function."
   ]
  },
  {
   "cell_type": "code",
   "execution_count": 20,
   "metadata": {},
   "outputs": [
    {
     "name": "stdout",
     "output_type": "stream",
     "text": [
      "      cookie                                        ingredients  calories  \\\n",
      "42    laddoo             [\"flour\",\"lemon juice\",\"sugar\",\"ghee\"]       176   \n",
      "50  nevadito  [\"flour\",\"chocolate chips\",\"milk\",\"vanilla ext...       220   \n",
      "13    orange   [\"flour\",\"orange juice\",\"sugar\",\"vegetable oil\"]       159   \n",
      "22       bbb           [\"flour\",\"blueberries\",\"sugar\",\"butter\"]       184   \n",
      "56    laddoo             [\"flour\",\"lemon juice\",\"sugar\",\"ghee\"]       165   \n",
      "\n",
      "    radius  cost_to_make  \n",
      "42   4.110          2.77  \n",
      "50   3.855          2.71  \n",
      "13   3.429          2.59  \n",
      "22   2.982          2.51  \n",
      "56   4.123          2.50  \n"
     ]
    }
   ],
   "source": [
    "# TODO: sort the df using sort_values(by='Column', ascending=False)\n",
    "\n",
    "cookies_sorted = cookies.sort_values(by='cost_to_make', ascending=False)\n",
    "\n",
    "# Verify the changes by displaying the head of the sorted dataframe\n",
    "print(cookies_sorted.head())"
   ]
  },
  {
   "attachments": {},
   "cell_type": "markdown",
   "metadata": {},
   "source": [
    "We may also want to group data by certain attributes. This can be done by using `groupby()`. This method takes in a column name, and groups the data by the values in that column. For example, we can group the data by the `cookie` column."
   ]
  },
  {
   "cell_type": "code",
   "execution_count": 21,
   "metadata": {},
   "outputs": [
    {
     "name": "stdout",
     "output_type": "stream",
     "text": [
      "cookie\n",
      "bbb          17\n",
      "chocolate    15\n",
      "laddoo       17\n",
      "minty        17\n",
      "nevadito     17\n",
      "orange       17\n",
      "red          18\n",
      "dtype: int64\n"
     ]
    }
   ],
   "source": [
    "#TODO: group by cookie type\n",
    "grouped_cookies = cookies.groupby('cookie')\n",
    "\n",
    "# To see the result, you can display the size of each group\n",
    "print(grouped_cookies.size())"
   ]
  },
  {
   "attachments": {},
   "cell_type": "markdown",
   "metadata": {},
   "source": [
    "We can also group by multiple columns. For example, we can group the data by the `cookie` and `ingredients` columns."
   ]
  },
  {
   "cell_type": "code",
   "execution_count": 22,
   "metadata": {},
   "outputs": [
    {
     "name": "stdout",
     "output_type": "stream",
     "text": [
      "cookie     ingredients                                          \n",
      "bbb        [\"flour\",\"blueberries\",\"sugar\",\"butter\"]                 17\n",
      "chocolate  [\"flour\",\"chocolate chips\",\"sugar\",\"butter\"]             15\n",
      "laddoo     [\"flour\",\"lemon juice\",\"sugar\",\"ghee\"]                   17\n",
      "minty      [\"flour\",\"mint extract\",\"sugar\",\"butter\"]                17\n",
      "nevadito   [\"flour\",\"chocolate chips\",\"milk\",\"vanilla extract\"]     17\n",
      "orange     [\"flour\",\"orange juice\",\"sugar\",\"vegetable oil\"]         17\n",
      "red        [\"flour\",\"cocoa powder\",\"butter\",\"red food coloring\"]    18\n",
      "dtype: int64\n"
     ]
    }
   ],
   "source": [
    "#TODO: group by cookie type and ingredients\n",
    "grouped_by_cookie_and_ingredients = cookies.groupby(['cookie', 'ingredients'])\n",
    "\n",
    "# To see the result, you can display the size of each group\n",
    "print(grouped_by_cookie_and_ingredients.size())"
   ]
  },
  {
   "attachments": {},
   "cell_type": "markdown",
   "metadata": {},
   "source": [
    "We may also want to filter the data. For example, we can filter the data to only show the cookies that have a radius greater than 4.3 cm. We can do this by indexing the DataFrame with a boolean expression."
   ]
  },
  {
   "cell_type": "code",
   "execution_count": 23,
   "metadata": {},
   "outputs": [
    {
     "name": "stdout",
     "output_type": "stream",
     "text": [
      "        cookie                                        ingredients  calories  \\\n",
      "29    nevadito  [\"flour\",\"chocolate chips\",\"milk\",\"vanilla ext...       219   \n",
      "30         red  [\"flour\",\"cocoa powder\",\"butter\",\"red food col...       204   \n",
      "47       minty          [\"flour\",\"mint extract\",\"sugar\",\"butter\"]       174   \n",
      "49      laddoo             [\"flour\",\"lemon juice\",\"sugar\",\"ghee\"]       195   \n",
      "60      orange   [\"flour\",\"orange juice\",\"sugar\",\"vegetable oil\"]       186   \n",
      "62   chocolate       [\"flour\",\"chocolate chips\",\"sugar\",\"butter\"]       206   \n",
      "72         red  [\"flour\",\"cocoa powder\",\"butter\",\"red food col...       196   \n",
      "76         red  [\"flour\",\"cocoa powder\",\"butter\",\"red food col...       206   \n",
      "80   chocolate       [\"flour\",\"chocolate chips\",\"sugar\",\"butter\"]       197   \n",
      "87   chocolate       [\"flour\",\"chocolate chips\",\"sugar\",\"butter\"]       199   \n",
      "88      laddoo             [\"flour\",\"lemon juice\",\"sugar\",\"ghee\"]       167   \n",
      "97         red  [\"flour\",\"cocoa powder\",\"butter\",\"red food col...       191   \n",
      "100      minty          [\"flour\",\"mint extract\",\"sugar\",\"butter\"]       185   \n",
      "101     laddoo             [\"flour\",\"lemon juice\",\"sugar\",\"ghee\"]       178   \n",
      "109   nevadito  [\"flour\",\"chocolate chips\",\"milk\",\"vanilla ext...       211   \n",
      "110        red  [\"flour\",\"cocoa powder\",\"butter\",\"red food col...       198   \n",
      "\n",
      "     radius  cost_to_make  \n",
      "29    4.346      1.680000  \n",
      "30    4.667      1.900000  \n",
      "47    4.388      1.140000  \n",
      "49    4.562      1.120000  \n",
      "60    4.573      1.560000  \n",
      "62    4.328      1.840000  \n",
      "72    4.425      1.370000  \n",
      "76    4.319      1.740000  \n",
      "80    4.461      2.170000  \n",
      "87    4.474      1.640000  \n",
      "88    4.401      1.740000  \n",
      "97    4.475      1.740000  \n",
      "100   4.307      1.676579  \n",
      "101   4.519      1.910000  \n",
      "109   4.619      1.676579  \n",
      "110   4.930      1.550000  \n"
     ]
    }
   ],
   "source": [
    "#TODO: filter using the boolean expression\n",
    "filtered_cookies = cookies[cookies['radius'] > 4.3]\n",
    "\n",
    "# Display the filtered dataframe\n",
    "print(filtered_cookies)"
   ]
  },
  {
   "attachments": {},
   "cell_type": "markdown",
   "metadata": {},
   "source": [
    "We may even want to use `groupby()` and filter idea together! For example, we can filter the data to only show the cookies that have a radius greater than 4.3 cm, and group the data by the `cookie` column."
   ]
  },
  {
   "cell_type": "code",
   "execution_count": 24,
   "metadata": {},
   "outputs": [
    {
     "name": "stdout",
     "output_type": "stream",
     "text": [
      "cookie\n",
      "chocolate    3\n",
      "laddoo       3\n",
      "minty        2\n",
      "nevadito     2\n",
      "orange       1\n",
      "red          5\n",
      "dtype: int64\n"
     ]
    }
   ],
   "source": [
    "#TODO: filter the data using the boolean expression\n",
    "# then group by cookie column\n",
    "filtered_and_grouped = cookies[cookies['radius'] > 4.3].groupby('cookie')\n",
    "\n",
    "# To see the result, you can display the size of each group\n",
    "print(filtered_and_grouped.size())"
   ]
  },
  {
   "attachments": {},
   "cell_type": "markdown",
   "metadata": {},
   "source": [
    "We may also want to aggregate the data. For example, we can aggregate the data by looking at the ratio of calories to radius. We can do this by using indexing and the `apply()` function."
   ]
  },
  {
   "cell_type": "code",
   "execution_count": 25,
   "metadata": {},
   "outputs": [
    {
     "name": "stdout",
     "output_type": "stream",
     "text": [
      "     cookie                                        ingredients  calories  \\\n",
      "0    laddoo             [\"flour\",\"lemon juice\",\"sugar\",\"ghee\"]       170   \n",
      "1       red  [\"flour\",\"cocoa powder\",\"butter\",\"red food col...       198   \n",
      "2  nevadito  [\"flour\",\"chocolate chips\",\"milk\",\"vanilla ext...       224   \n",
      "4       bbb           [\"flour\",\"blueberries\",\"sugar\",\"butter\"]       191   \n",
      "5    orange   [\"flour\",\"orange juice\",\"sugar\",\"vegetable oil\"]       162   \n",
      "\n",
      "   radius  cost_to_make  calories_per_radius  \n",
      "0   3.102          1.17            54.803353  \n",
      "1   3.780          1.57            52.380952  \n",
      "2   4.069          1.54            55.050381  \n",
      "4   4.148          1.89            46.046287  \n",
      "5   3.241          1.65            49.984573  \n"
     ]
    }
   ],
   "source": [
    "#TODO: add a column to the dataframe that is the\n",
    "# calories per radius\n",
    "\n",
    "cookies['calories_per_radius'] = cookies['calories'] / cookies['radius']\n",
    "\n",
    "# Display the head of the dataframe to verify the new column\n",
    "print(cookies.head())"
   ]
  },
  {
   "attachments": {},
   "cell_type": "markdown",
   "metadata": {},
   "source": [
    "Or we can just get rid of this column if we find it useless. We can do this by using the `drop()` function or indexing."
   ]
  },
  {
   "cell_type": "code",
   "execution_count": 26,
   "metadata": {},
   "outputs": [
    {
     "name": "stdout",
     "output_type": "stream",
     "text": [
      "     cookie                                        ingredients  calories  \\\n",
      "0    laddoo             [\"flour\",\"lemon juice\",\"sugar\",\"ghee\"]       170   \n",
      "1       red  [\"flour\",\"cocoa powder\",\"butter\",\"red food col...       198   \n",
      "2  nevadito  [\"flour\",\"chocolate chips\",\"milk\",\"vanilla ext...       224   \n",
      "4       bbb           [\"flour\",\"blueberries\",\"sugar\",\"butter\"]       191   \n",
      "5    orange   [\"flour\",\"orange juice\",\"sugar\",\"vegetable oil\"]       162   \n",
      "\n",
      "   radius  cost_to_make  \n",
      "0   3.102          1.17  \n",
      "1   3.780          1.57  \n",
      "2   4.069          1.54  \n",
      "4   4.148          1.89  \n",
      "5   3.241          1.65  \n"
     ]
    }
   ],
   "source": [
    "#TODO: drop the created column\n",
    "cookies.drop(columns=['calories_per_radius'], inplace=True)\n",
    "\n",
    "# Display the head of the dataframe to verify the column has been dropped\n",
    "print(cookies.head())"
   ]
  },
  {
   "attachments": {},
   "cell_type": "markdown",
   "metadata": {},
   "source": [
    "### Visualizing the data"
   ]
  },
  {
   "attachments": {},
   "cell_type": "markdown",
   "metadata": {},
   "source": [
    "We can also visualize the data. For example, we can visualize the data by plotting the radius of the cookies against the cost to make the cookies. We can do this by using the `plot()` function."
   ]
  },
  {
   "cell_type": "code",
   "execution_count": 27,
   "metadata": {},
   "outputs": [
    {
     "data": {
      "image/png": "[encoded data removed]",
      "text/plain": [
       "<Figure size 640x480 with 1 Axes>"
      ]
     },
     "metadata": {},
     "output_type": "display_data"
    }
   ],
   "source": [
    "#TODO: plot the radius (x) versus cost to make (y)\n",
    "cookies.plot(x='radius', y='cost_to_make', kind='scatter', title='Radius vs. Cost to Make', xlabel='Radius (cm)', ylabel='Cost to Make ($)')\n",
    "\n",
    "# Display the plot\n",
    "plt.show()"
   ]
  },
  {
   "attachments": {},
   "cell_type": "markdown",
   "metadata": {},
   "source": [
    "We may even want to get more specific and visualize the shape of a distribution of the `laddoo lemon`'s radius by making a boxplot. We can also do this by using the `plot()` function."
   ]
  },
  {
   "cell_type": "code",
   "execution_count": 28,
   "metadata": {},
   "outputs": [
    {
     "data": {
      "image/png": "[encoded data removed]",
      "text/plain": [
       "<Figure size 640x480 with 1 Axes>"
      ]
     },
     "metadata": {},
     "output_type": "display_data"
    }
   ],
   "source": [
    "#TODO: add the described boxplot\n",
    "# remember that you changed the name from laddoo lemon to laddoo\n",
    "laddoo_data = cookies[cookies['cookie'] == 'laddoo']\n",
    "\n",
    "# Create a boxplot of the 'radius' column for 'laddoo' cookies\n",
    "laddoo_data['radius'].plot(kind='box', title='Distribution of Laddoo Cookie Radius', ylabel='Radius (cm)')\n",
    "\n",
    "# Display the plot\n",
    "plt.show()"
   ]
  },
  {
   "attachments": {},
   "cell_type": "markdown",
   "metadata": {},
   "source": [
    "Alternatively, we can create a histogram to visualize the distribution of the `laddoo lemon`'s radius. We can also do this by using the `plot()` function."
   ]
  },
  {
   "cell_type": "code",
   "execution_count": 29,
   "metadata": {},
   "outputs": [
    {
     "data": {
      "image/png": "[encoded data removed]",
      "text/plain": [
       "<Figure size 640x480 with 1 Axes>"
      ]
     },
     "metadata": {},
     "output_type": "display_data"
    }
   ],
   "source": [
    "#TODO: add the described histogram\n",
    "laddoo_data = cookies[cookies['cookie'] == 'laddoo']\n",
    "\n",
    "# Create a histogram of the 'radius' column for 'laddoo' cookies\n",
    "laddoo_data['radius'].plot(kind='hist', bins=10, edgecolor='black', title='Distribution of Laddoo Cookie Radius', xlabel='Radius (cm)', ylabel='Frequency')\n",
    "\n",
    "# Display the plot\n",
    "plt.show()"
   ]
  },
  {
   "attachments": {},
   "cell_type": "markdown",
   "metadata": {},
   "source": [
    "Things can get more complicated too. Maybe we want to analyze the behaviors of `bad berry bunny` and `laddoo lemon`'s radius using a boxplot. But this time, let's try it using the alternative `boxplot()` function. For practice, try doing it with `plot()` too!"
   ]
  },
  {
   "cell_type": "code",
   "execution_count": 31,
   "metadata": {},
   "outputs": [
    {
     "data": {
      "image/png": "[encoded data removed]",
      "text/plain": [
       "<Figure size 640x480 with 1 Axes>"
      ]
     },
     "metadata": {},
     "output_type": "display_data"
    }
   ],
   "source": [
    "#TODO: analyze the two cookie's radius in a boxplot\n",
    "filtered_data = cookies[cookies['cookie'].isin(['bbb', 'laddoo'])]\n",
    "\n",
    "# Create a boxplot of the 'radius' column for 'bbb' and 'laddoo' cookies\n",
    "filtered_data.boxplot(column='radius', by='cookie', grid=False)\n",
    "plt.title('Distribution of Radius for BBB and Laddoo Cookies')\n",
    "plt.suptitle('')  # Remove the default title\n",
    "plt.xlabel('Cookie Type')\n",
    "plt.ylabel('Radius (cm)')\n",
    "plt.show()\n"
   ]
  },
  {
   "attachments": {},
   "cell_type": "markdown",
   "metadata": {},
   "source": [
    "### Practice Problems\n",
    "Now that you have learned some of Pandas' capabilities, let's try some practice problems! **This is the part that will be checked when you submit it!**"
   ]
  },
  {
   "attachments": {},
   "cell_type": "markdown",
   "metadata": {},
   "source": [
    "#### Problem 1\n",
    "How many cookies were made? (Hint: use the `shape` attribute)"
   ]
  },
  {
   "cell_type": "code",
   "execution_count": 32,
   "metadata": {},
   "outputs": [
    {
     "name": "stdout",
     "output_type": "stream",
     "text": [
      "Total number of cookies made: 118\n"
     ]
    }
   ],
   "source": [
    "#Add your code here\n",
    "num_cookies = cookies.shape[0]\n",
    "print(f\"Total number of cookies made: {num_cookies}\")\n"
   ]
  },
  {
   "attachments": {},
   "cell_type": "markdown",
   "metadata": {},
   "source": [
    "#### Problem 2\n",
    "Add a column to the DataFrame that has the value `True` if the cookie has a radius greater than 4 cm, and `False` otherwise. (Hint: use the `apply()` function)"
   ]
  },
  {
   "cell_type": "code",
   "execution_count": 33,
   "metadata": {},
   "outputs": [
    {
     "name": "stdout",
     "output_type": "stream",
     "text": [
      "     cookie                                        ingredients  calories  \\\n",
      "0    laddoo             [\"flour\",\"lemon juice\",\"sugar\",\"ghee\"]       170   \n",
      "1       red  [\"flour\",\"cocoa powder\",\"butter\",\"red food col...       198   \n",
      "2  nevadito  [\"flour\",\"chocolate chips\",\"milk\",\"vanilla ext...       224   \n",
      "4       bbb           [\"flour\",\"blueberries\",\"sugar\",\"butter\"]       191   \n",
      "5    orange   [\"flour\",\"orange juice\",\"sugar\",\"vegetable oil\"]       162   \n",
      "\n",
      "   radius  cost_to_make  greater_than_4cm  \n",
      "0   3.102          1.17             False  \n",
      "1   3.780          1.57             False  \n",
      "2   4.069          1.54              True  \n",
      "4   4.148          1.89              True  \n",
      "5   3.241          1.65             False  \n"
     ]
    }
   ],
   "source": [
    "#Add your code here\n",
    "cookies['greater_than_4cm'] = cookies['radius'].apply(lambda x: True if x > 4 else False)\n",
    "print(cookies.head())"
   ]
  },
  {
   "attachments": {},
   "cell_type": "markdown",
   "metadata": {},
   "source": [
    "#### Problem 3\n",
    "\n",
    "Group the data by the `cookie` column, and find the average radius of each cookie. (Hint: use the `groupby()` and `transform()` function). Add this column to the DataFrame."
   ]
  },
  {
   "cell_type": "code",
   "execution_count": 34,
   "metadata": {},
   "outputs": [
    {
     "name": "stdout",
     "output_type": "stream",
     "text": [
      "     cookie                                        ingredients  calories  \\\n",
      "0    laddoo             [\"flour\",\"lemon juice\",\"sugar\",\"ghee\"]       170   \n",
      "1       red  [\"flour\",\"cocoa powder\",\"butter\",\"red food col...       198   \n",
      "2  nevadito  [\"flour\",\"chocolate chips\",\"milk\",\"vanilla ext...       224   \n",
      "4       bbb           [\"flour\",\"blueberries\",\"sugar\",\"butter\"]       191   \n",
      "5    orange   [\"flour\",\"orange juice\",\"sugar\",\"vegetable oil\"]       162   \n",
      "\n",
      "   radius  cost_to_make  greater_than_4cm  average_radius  \n",
      "0   3.102          1.17             False        3.782118  \n",
      "1   3.780          1.57             False        4.077444  \n",
      "2   4.069          1.54              True        4.013588  \n",
      "4   4.148          1.89              True        3.911000  \n",
      "5   3.241          1.65             False        3.519353  \n"
     ]
    }
   ],
   "source": [
    "#Add your code here\n",
    "cookies['average_radius'] = cookies.groupby('cookie')['radius'].transform('mean')\n",
    "print(cookies.head())\n"
   ]
  },
  {
   "attachments": {},
   "cell_type": "markdown",
   "metadata": {},
   "source": [
    "#### Problem 4\n",
    "Create a new DataFrame that only contains the cookies that have the ingredient `\"chocolate chips\"`. (Hint: use the `str.contains()` function)"
   ]
  },
  {
   "cell_type": "code",
   "execution_count": 35,
   "metadata": {},
   "outputs": [
    {
     "name": "stdout",
     "output_type": "stream",
     "text": [
      "       cookie                                        ingredients  calories  \\\n",
      "2    nevadito  [\"flour\",\"chocolate chips\",\"milk\",\"vanilla ext...       224   \n",
      "7   chocolate       [\"flour\",\"chocolate chips\",\"sugar\",\"butter\"]       243   \n",
      "10   nevadito  [\"flour\",\"chocolate chips\",\"milk\",\"vanilla ext...       216   \n",
      "17  chocolate       [\"flour\",\"chocolate chips\",\"sugar\",\"butter\"]       209   \n",
      "19   nevadito  [\"flour\",\"chocolate chips\",\"milk\",\"vanilla ext...       236   \n",
      "\n",
      "    radius  cost_to_make  greater_than_4cm  average_radius  \n",
      "2    4.069          1.54              True        4.013588  \n",
      "7    3.684          1.67             False        3.983667  \n",
      "10   3.848          1.78             False        4.013588  \n",
      "17   3.182          2.03             False        3.983667  \n",
      "19   4.043          1.79              True        4.013588  \n"
     ]
    }
   ],
   "source": [
    "#Add your code here\n",
    "chocolate_chip_cookies = cookies[cookies['ingredients'].str.contains('chocolate chips', case=False, na=False)]\n",
    "print(chocolate_chip_cookies.head())\n"
   ]
  },
  {
   "attachments": {},
   "cell_type": "markdown",
   "metadata": {},
   "source": [
    "#### Problem 5\n",
    "\n",
    "Create a boxplot of `cost_to_make` for all cookies except `chocolate` using the `boxplot()` function."
   ]
  },
  {
   "cell_type": "code",
   "execution_count": 36,
   "metadata": {},
   "outputs": [
    {
     "data": {
      "image/png": "[encoded data removed]",
      "text/plain": [
       "<Figure size 640x480 with 1 Axes>"
      ]
     },
     "metadata": {},
     "output_type": "display_data"
    }
   ],
   "source": [
    "#Add your code here\n",
    "non_chocolate_cookies = cookies[cookies['cookie'] != 'chocolate']\n",
    "non_chocolate_cookies.boxplot(column='cost_to_make', grid=False)\n",
    "plt.title('Cost to Make for Non-Chocolate Cookies')\n",
    "plt.ylabel('Cost to Make ($)')\n",
    "plt.show()\n",
    "\n"
   ]
  },
  {
   "attachments": {},
   "cell_type": "markdown",
   "metadata": {},
   "source": [
    "#### Problem 6\n",
    "\n",
    "Create a histogram of the `bad berry bunny`'s calories using the `plot()` function."
   ]
  },
  {
   "cell_type": "code",
   "execution_count": 37,
   "metadata": {},
   "outputs": [
    {
     "data": {
      "image/png": "[encoded data removed]",
      "text/plain": [
       "<Figure size 640x480 with 1 Axes>"
      ]
     },
     "metadata": {},
     "output_type": "display_data"
    }
   ],
   "source": [
    "#Add your code here\n",
    "bbb_data = cookies[cookies['cookie'] == 'bbb']\n",
    "bbb_data['calories'].plot(kind='hist', bins=10, edgecolor='black', title='Distribution of Calories for BBB Cookies', xlabel='Calories', ylabel='Frequency')\n",
    "plt.show()"
   ]
  },
  {
   "cell_type": "markdown",
   "metadata": {},
   "source": [
    "#### Problem 7\n",
    "\n",
    "Calculate the average calories per cookie type and display the result in a bar chart."
   ]
  },
  {
   "cell_type": "code",
   "execution_count": 38,
   "metadata": {},
   "outputs": [
    {
     "data": {
      "image/png": "[encoded data removed]",
      "text/plain": [
       "<Figure size 640x480 with 1 Axes>"
      ]
     },
     "metadata": {},
     "output_type": "display_data"
    }
   ],
   "source": [
    "#Add your code here\n",
    "# Group by the 'cookie' column and calculate the average calories\n",
    "average_calories = cookies.groupby('cookie')['calories'].mean()\n",
    "\n",
    "# Create a bar chart of the average calories per cookie type\n",
    "average_calories.plot(kind='bar', color='skyblue', edgecolor='black', title='Average Calories per Cookie Type', xlabel='Cookie Type', ylabel='Average Calories')\n",
    "\n",
    "# Display the plot\n",
    "plt.xticks(rotation=45)\n",
    "plt.tight_layout()\n",
    "plt.show()\n"
   ]
  },
  {
   "cell_type": "markdown",
   "metadata": {},
   "source": [
    "#### Problem 8\n",
    "\n",
    "Find the top 3 most expensive cookies in terms of cost_to_make"
   ]
  },
  {
   "cell_type": "code",
   "execution_count": 39,
   "metadata": {},
   "outputs": [
    {
     "name": "stdout",
     "output_type": "stream",
     "text": [
      "      cookie  cost_to_make\n",
      "42    laddoo          2.77\n",
      "50  nevadito          2.71\n",
      "13    orange          2.59\n"
     ]
    }
   ],
   "source": [
    "#Add your code here\n",
    "top_3_expensive_cookies = cookies.sort_values(by='cost_to_make', ascending=False).head(3)\n",
    "print(top_3_expensive_cookies[['cookie', 'cost_to_make']])\n"
   ]
  }
 ],
 "metadata": {
  "kernelspec": {
   "display_name": "Python 3",
   "language": "python",
   "name": "python3"
  },
  "language_info": {
   "codemirror_mode": {
    "name": "ipython",
    "version": 3
   },
   "file_extension": ".py",
   "mimetype": "text/x-python",
   "name": "python",
   "nbconvert_exporter": "python",
   "pygments_lexer": "ipython3",
   "version": "3.11.2"
  },
  "orig_nbformat": 4,
  "vscode": {
   "interpreter": {
    "hash": "63639127d0784e8e4de1a76bcacd89583be09d9f82d600966cd9457d183cbbf7"
   }
  }
 },
 "nbformat": 4,
 "nbformat_minor": 2
}
